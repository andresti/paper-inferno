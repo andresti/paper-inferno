{
 "cells": [
  {
   "cell_type": "code",
   "execution_count": null,
   "metadata": {},
   "outputs": [],
   "source": [
    "\n",
    "import pandas as pd\n",
    "import numpy as np\n",
    "\n",
    "import tensorflow as tf\n",
    "\n",
    "repo_path = \"..\"\n",
    "import sys\n",
    "sys.path.append(f\"{repo_path}/code/\")\n",
    "\n"
   ]
  },
  {
   "cell_type": "code",
   "execution_count": null,
   "metadata": {},
   "outputs": [],
   "source": [
    "from benchmarking import benchmark_likelihood\n",
    "from benchmarking import benchmark_optimal\n",
    "\n",
    "optimal_path = \"optimal.csv\"\n",
    "benchmark_optimal(optimal_path)\n",
    "likelihood_path = \"likelihood.csv\"\n",
    "benchmark_likelihood(likelihood_path);"
   ]
  },
  {
   "cell_type": "code",
   "execution_count": null,
   "metadata": {},
   "outputs": [],
   "source": [
    "clf_result_path = \"../data/models/cross_entropy/ne_200_lr_0.001_bs_32/results.csv\"\n",
    "\n",
    "inf_result_paths = [\"../data/models/b_0/ne_200_lr_1e-06_bs_1000_t_0.1/results.csv\",\n",
    "                    \"../data/models/b_1/ne_200_lr_1e-06_bs_1000_t_0.1/results.csv\",\n",
    "                    \"../data/models/b_2/ne_200_lr_1e-06_bs_1000_t_0.1/results.csv\",\n",
    "                    \"../data/models/b_2_aux/ne_200_lr_1e-06_bs_1000_t_0.1/results.csv\",\n",
    "                    \"../data/models/b_3_aux/ne_200_lr_1e-06_bs_1500_t_0.1/results.csv\"]\n"
   ]
  },
  {
   "cell_type": "code",
   "execution_count": null,
   "metadata": {},
   "outputs": [],
   "source": [
    "df = pd.read_csv(clf_result_path)\n",
    "for result_path in inf_result_paths:\n",
    "  df = df.append(pd.read_csv(result_path),ignore_index=True)\n",
    "\n",
    "df = df.append(pd.read_csv(optimal_path), ignore_index=True)\n",
    "df = df.append(pd.read_csv(likelihood_path), ignore_index=True)\n",
    "\n",
    "\n",
    " "
   ]
  },
  {
   "cell_type": "code",
   "execution_count": null,
   "metadata": {},
   "outputs": [],
   "source": [
    "cols = [\"common_path\",\"b_0\",\"b_1\",\"b_2\",\"b_2_aux\", \"b_3_aux\"]\n",
    "df_sub = df.loc[:, cols]"
   ]
  },
  {
   "cell_type": "code",
   "execution_count": null,
   "metadata": {},
   "outputs": [],
   "source": [
    "quant_df = df_sub.groupby(\"common_path\").quantile([0.36,0.5,0.84]).unstack().round(4)"
   ]
  },
  {
   "cell_type": "code",
   "execution_count": null,
   "metadata": {},
   "outputs": [],
   "source": [
    "row_map = {\"cross_entropy/\" : \"NN Classifier\",\n",
    "           \"models/b_0/\" : \"\\textsc{INFERNO} 0\",\n",
    "           \"models/b_1/\" : \"\\textsc{INFERNO} 1\",\n",
    "           \"models/b_2/\" : \"\\textsc{INFERNO} 2\",\n",
    "           \"models/b_2_aux/\" : \"\\textsc{INFERNO} 3\",\n",
    "           \"models/b_3_aux/\" : \"\\textsc{INFERNO} 4\",\n",
    "           \"optimal\" : \"Optimal Classifier\",\n",
    "           \"likelihood\" : \"Analytical Likelihood\"\n",
    "           }\n",
    "\n",
    "quant_map = {0.36 : r\"36%\",\n",
    "             0.5 : r\"50%\",\n",
    "             0.84: r\"84%\"}\n",
    "def rename_rows(row_name):\n",
    "  for k,v in row_map.items():\n",
    "    if k in row_name:\n",
    "      return v\n",
    "  else:\n",
    "    return row_name\n",
    "  \n",
    "           \n",
    "bench_map = {\"b_0\" : \"Benchmark 0\",\n",
    "             \"b_1\" : \"Benchmark 1\",\n",
    "             \"b_2\" : \"Benchmark 2\",\n",
    "             \"b_2_aux\" : \"Benchmark 3\",\n",
    "             \"b_3_aux\" : \"Benchmark 4\"}"
   ]
  },
  {
   "cell_type": "code",
   "execution_count": null,
   "metadata": {},
   "outputs": [],
   "source": [
    "format_df = (quant_df.rename(bench_map,level=0,axis=1)\n",
    "                     .rename(quant_map,level=1,axis=1)\n",
    "                     .rename(rename_rows).loc[list(row_map.values())])\n",
    "del format_df.index.name\n",
    "format_df"
   ]
  },
  {
   "cell_type": "code",
   "execution_count": null,
   "metadata": {},
   "outputs": [],
   "source": [
    "def formatter(row):\n",
    "  median = row.loc[(slice(None),\"50%\")]\n",
    "  upper_unc = row.loc[(slice(None),\"84%\")] - median\n",
    "  lower_unc = median - row.loc[(slice(None),\"36%\")]\n",
    "  median_str = median.round(2).apply(\"{0:.2f}\".format)\n",
    "  result = median_str.apply(lambda x: \"$\"+x)\\\n",
    "                     .str.cat(upper_unc.round(2).apply(\"{0:.2f}\".format),sep=\"^{+\")\\\n",
    "                     .apply(lambda x: x+\"}\")\\\n",
    "                     .str.cat(lower_unc.round(2).apply(\"{0:.2f}\".format),sep=\"_{-\")\\\n",
    "                     .apply(lambda x: x+\"}$\")\n",
    "  if (\"Optimal\" in row.name) or (\"Likelihood\" in row.name):\n",
    "    return median_str\n",
    "  else:\n",
    "    return result"
   ]
  },
  {
   "cell_type": "code",
   "execution_count": null,
   "metadata": {},
   "outputs": [],
   "source": [
    "compact_df = format_df.apply(formatter, axis=1)"
   ]
  },
  {
   "cell_type": "code",
   "execution_count": null,
   "metadata": {},
   "outputs": [],
   "source": [
    "compact_df"
   ]
  },
  {
   "cell_type": "code",
   "execution_count": null,
   "metadata": {},
   "outputs": [],
   "source": [
    "with open(\"../paper/table.tex\", \"w\") as f:\n",
    "  f.write(compact_df.to_latex(escape=False))"
   ]
  },
  {
   "cell_type": "code",
   "execution_count": null,
   "metadata": {},
   "outputs": [],
   "source": []
  }
 ],
 "metadata": {
  "kernelspec": {
   "display_name": "Python 3",
   "language": "python",
   "name": "python3"
  },
  "language_info": {
   "codemirror_mode": {
    "name": "ipython",
    "version": 3
   },
   "file_extension": ".py",
   "mimetype": "text/x-python",
   "name": "python",
   "nbconvert_exporter": "python",
   "pygments_lexer": "ipython3",
   "version": "3.6.6"
  }
 },
 "nbformat": 4,
 "nbformat_minor": 2
}
