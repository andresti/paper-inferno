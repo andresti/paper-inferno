{
 "cells": [
  {
   "cell_type": "code",
   "execution_count": null,
   "metadata": {},
   "outputs": [],
   "source": [
    "import numpy as np\n",
    "import matplotlib.pyplot as plt\n",
    "import matplotlib\n",
    "from matplotlib.patches import Ellipse\n",
    "from sklearn.model_selection import train_test_split\n",
    "import tensorflow as tf\n",
    "import os\n",
    "\n",
    "ds = tf.contrib.distributions\n",
    "k = tf.keras\n",
    "\n",
    "font = {'size'   : 14}\n",
    "\n",
    "matplotlib.rc('font', **font)"
   ]
  },
  {
   "cell_type": "code",
   "execution_count": null,
   "metadata": {},
   "outputs": [],
   "source": [
    "r_dist = tf.placeholder_with_default(2., shape=())\n",
    "\n",
    "bkg = ds.MultivariateNormalFullCovariance(loc=[r_dist, 0.],\n",
    "        covariance_matrix=[[5.,0.],[0.,9.]], name=\"p0\")\n",
    "\n",
    "sig = ds.MultivariateNormalDiag(loc=[0., 0.],\n",
    "        scale_diag=[1., 1.], name=\"p1\")\n",
    "\n",
    "mu = tf.placeholder(shape=(), dtype=tf.float32, name=\"mu\")\n",
    "mix = ds.Mixture(cat=ds.Categorical(probs=[1.-mu, mu]),\n",
    "               components = [bkg, sig])"
   ]
  },
  {
   "cell_type": "code",
   "execution_count": null,
   "metadata": {},
   "outputs": [],
   "source": [
    "# generate training data and split validation hold_out\n",
    "n_samples_train = 125000\n",
    "X_sample_tensors = {}\n",
    "y_values = {}\n",
    "p0_sample = \"p0_sample\"\n",
    "X_sample_tensors[p0_sample] = bkg.sample(n_samples_train // 2, seed=7, name=\"sig_sample\") \n",
    "y_values[p0_sample] = 0.\n",
    "p1_sample = \"p1_sample\"\n",
    "X_sample_tensors[p1_sample] = sig.sample(n_samples_train // 2, seed=17, name=\"bkg_sample\") \n",
    "y_values[p1_sample] = 1.\n",
    "\n",
    "samples = {}\n",
    "\n",
    "with tf.Session() as sess:\n",
    "  for name, sample_tensor in X_sample_tensors.items():\n",
    "      samples[name] = {}\n",
    "      samples[name][\"X\"] = sess.run(sample_tensor)\n",
    "      samples[name][\"y\"] =  y_values[name]*np.ones(sample_tensor.shape[0],\n",
    "                                                     dtype=np.float32)\n",
    "train_samples = {}\n",
    "valid_samples = {}\n",
    "\n",
    "for name,sample in samples.items():\n",
    "  keys = sample.keys()\n",
    "  split_sample = train_test_split(*list(sample.values()),\n",
    "                                  test_size = 0.4,\n",
    "                                  random_state=17)\n",
    "  train_samples[name] = { k : split_sample[i] for k,i in zip(keys,[0,2])}\n",
    "  valid_samples[name] = { k : split_sample[i] for k,i in zip(keys,[1,3])}"
   ]
  },
  {
   "cell_type": "code",
   "execution_count": null,
   "metadata": {},
   "outputs": [],
   "source": [
    "# generate test dataset\n",
    "n_samples_test = 500000\n",
    "X_sample_tensors = {}\n",
    "y_values = {}\n",
    "p0_sample = \"p0_sample\"\n",
    "X_sample_tensors[p0_sample] = bkg.sample(n_samples_test // 2, seed=45, name=\"sig_sample\") \n",
    "y_values[p0_sample] = 0.\n",
    "p1_sample = \"p1_sample\"\n",
    "X_sample_tensors[p1_sample] = sig.sample(n_samples_test // 2, seed=79, name=\"bkg_sample\") \n",
    "y_values[p1_sample] = 1.\n",
    "\n",
    "test_samples = {}\n",
    "\n",
    "with tf.Session() as sess:\n",
    "  for name, sample_tensor in X_sample_tensors.items():\n",
    "    test_samples[name] = {}\n",
    "    test_samples[name][\"X\"] = sess.run(sample_tensor)\n",
    "    test_samples[name][\"y\"] =  y_values[name]*np.ones(sample_tensor.shape[0],\n",
    "                                                     dtype=np.float32)"
   ]
  },
  {
   "cell_type": "code",
   "execution_count": null,
   "metadata": {},
   "outputs": [],
   "source": [
    "# save the data generated\n",
    "DATA_DIR = \"../data/2d_gaussian/\"\n",
    "\n",
    "s_dirs = {\"train\" : train_samples,\n",
    "          \"valid\" : valid_samples,\n",
    "          \"test\" : test_samples}\n",
    "\n",
    "for split, s_dict in s_dirs.items():\n",
    "  data_folder = f'../data/2d_gaussian/{split}/'\n",
    "  if not os.path.exists(data_folder):\n",
    "    os.mkdir(data_folder)\n",
    "  for name, sample in s_dict.items():\n",
    "    file_name = f'{data_folder}{name}.npz'\n",
    "    np.savez(file_name, **sample)"
   ]
  },
  {
   "cell_type": "code",
   "execution_count": null,
   "metadata": {},
   "outputs": [],
   "source": [
    "x_scan  = np.linspace(-5.,5.,1001, endpoint=True, dtype=np.float32)\n",
    "y_scan  = np.linspace(-5.,5.,1001, endpoint=True, dtype=np.float32)\n",
    "\n",
    "X_grid = np.stack(np.meshgrid(x_scan, y_scan),axis=-1)\n",
    "grid_shape = list(X_grid.shape[:-1])\n",
    "X_flat = np.reshape(X_grid, [-1,2])"
   ]
  },
  {
   "cell_type": "code",
   "execution_count": null,
   "metadata": {},
   "outputs": [],
   "source": [
    "X_grid_t = tf.placeholder(shape=(None, None, 2), dtype=tf.float32)\n",
    "\n",
    "mix_grid = mix.log_prob(X_grid_t)\n",
    "bkg_grid = bkg.log_prob(X_grid_t)\n",
    "sig_grid = sig.log_prob(X_grid_t)\n",
    "bkg_cov = bkg.covariance()\n",
    "sig_cov = sig.covariance()\n",
    "bkg_mean = bkg.mean()\n",
    "sig_mean = sig.mean()\n",
    "\n",
    "s = 40.\n",
    "b = 960.\n",
    "nu = 1.\n",
    "mu_val = (nu*s)/(nu*s+b)\n",
    "print(mu_val)\n",
    "\n",
    "with tf.Session() as sess:\n",
    "    mix_grid_arr = sess.run(mix_grid, feed_dict={X_grid_t : X_grid, mu : mu_val})\n",
    "    bkg_grid_arr = sess.run(bkg_grid, feed_dict={X_grid_t : X_grid})\n",
    "    sig_grid_arr =  sess.run(sig_grid, feed_dict={X_grid_t : X_grid})\n",
    "    bkg_cov_arr = sess.run(bkg_cov)\n",
    "    sig_cov_arr = sess.run(sig_cov)\n",
    "    bkg_mean_arr = sess.run(bkg_mean)\n",
    "    sig_mean_arr = sess.run(sig_mean)\n",
    "\n",
    "lr_mix_bkg = mix_grid_arr - bkg_grid_arr\n",
    "lr_sig_bkg = sig_grid_arr - bkg_grid_arr"
   ]
  },
  {
   "cell_type": "code",
   "execution_count": null,
   "metadata": {},
   "outputs": [],
   "source": [
    "figsize = (8,6)\n",
    "ax_xlabel = \"variable 1\"\n",
    "ax_ylabel = \"variable 2\""
   ]
  },
  {
   "cell_type": "code",
   "execution_count": null,
   "metadata": {},
   "outputs": [],
   "source": [
    "fig, ax = plt.subplots(1,1,figsize=figsize)\n",
    "\n",
    "levels = np.linspace(-0.05,0.35,9)\n",
    "con = ax.contourf(x_scan,y_scan, lr_mix_bkg, levels=levels)\n",
    "fig.colorbar(con, ax=ax)\n",
    "\n",
    "ax.set_xlabel(ax_xlabel)\n",
    "ax.set_ylabel(ax_ylabel)\n",
    "ax.set_aspect('equal')\n",
    "\n",
    "fig.savefig(\"lr_hyphotesis.pdf\", bbox_inches='tight')\n",
    "fig"
   ]
  },
  {
   "cell_type": "code",
   "execution_count": null,
   "metadata": {},
   "outputs": [],
   "source": [
    "fig, ax = plt.subplots(1,1,figsize=figsize)\n",
    "\n",
    "c_levels = np.linspace(-21,3,13)\n",
    "con = ax.contourf(x_scan,y_scan, lr_sig_bkg, levels=c_levels )\n",
    "fig.colorbar(con, ax=ax)\n",
    "\n",
    "for mean, cov, color in [[bkg_mean_arr, bkg_cov_arr, 'blue'],\n",
    "                         [sig_mean_arr, sig_cov_arr, 'red']]:\n",
    "  l, v = np.linalg.eig(cov)\n",
    "  l = np.sqrt(l)\n",
    "  for j in range(1, 3):\n",
    "    ell = Ellipse(xy=mean,\n",
    "                  width=l[0]*j*2, height=l[1]*j*2,\n",
    "                  angle=np.rad2deg(np.arccos(v[0, 0])))\n",
    "    ell.set_facecolor('none')\n",
    "    ell.set_edgecolor(color)\n",
    "    ell.set_linestyle('--')\n",
    "    ell.set_linewidth(2)\n",
    "    ax.add_artist(ell)\n",
    "\n",
    "ax.set_xlabel(ax_xlabel)\n",
    "ax.set_ylabel(ax_ylabel)\n",
    "ax.set_aspect('equal')\n",
    "\n",
    "fig.savefig(\"lr_density.pdf\", bbox_inches='tight')\n",
    "fig"
   ]
  },
  {
   "cell_type": "code",
   "execution_count": null,
   "metadata": {},
   "outputs": [],
   "source": [
    "x_scan  = np.linspace(-5.,5.,1001, endpoint=True, dtype=np.float32)\n",
    "y_scan  = np.linspace(-5.,5.,1001, endpoint=True, dtype=np.float32)\n",
    "X_grid = np.stack(np.meshgrid(x_scan, y_scan),axis=-1)\n",
    "grid_shape = list(X_grid.shape[:-1])\n",
    "X_flat = np.reshape(X_grid, [-1,2])\n",
    "\n",
    "model_path = \"log_dir/cross_entropy_n_bins_2_bs_128_lr_0.01.h5\"\n",
    "\n",
    "model = k.models.load_model(model_path)\n",
    "\n",
    "y_flat = model.predict_proba(X_flat, batch_size=1024)\n",
    "y_grid = np.reshape(y_flat, grid_shape+[-1])\n",
    "\n",
    "approx_lr = np.log(y_grid[:,:,1]) - np.log(y_grid[:,:,0])\n",
    "model.summary()"
   ]
  },
  {
   "cell_type": "code",
   "execution_count": null,
   "metadata": {},
   "outputs": [],
   "source": [
    "fig, ax = plt.subplots(1,1,figsize=figsize)\n",
    "\n",
    "c_levels = np.linspace(-21,3,13)\n",
    "con = ax.contourf(x_scan,y_scan, approx_lr, levels=c_levels )\n",
    "fig.colorbar(con, ax=ax)\n",
    "\n",
    "ax.set_xlabel(ax_xlabel)\n",
    "ax.set_ylabel(ax_ylabel)\n",
    "ax.set_aspect('equal')\n",
    "\n",
    "fig.savefig(\"lr_approx_ratio.pdf\", bbox_inches='tight')\n",
    "fig"
   ]
  }
 ],
 "metadata": {
  "kernelspec": {
   "display_name": "Python 3",
   "language": "python",
   "name": "python3"
  },
  "language_info": {
   "codemirror_mode": {
    "name": "ipython",
    "version": 3
   },
   "file_extension": ".py",
   "mimetype": "text/x-python",
   "name": "python",
   "nbconvert_exporter": "python",
   "pygments_lexer": "ipython3",
   "version": "3.6.3"
  }
 },
 "nbformat": 4,
 "nbformat_minor": 2
}
